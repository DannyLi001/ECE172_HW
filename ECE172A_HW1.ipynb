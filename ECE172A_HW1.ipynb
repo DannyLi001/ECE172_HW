{
 "cells": [
  {
   "cell_type": "code",
   "execution_count": 12,
   "id": "459922ae",
   "metadata": {},
   "outputs": [],
   "source": [
    "# from IPython.core.interactiveshell import InteractiveShell\n",
    "InteractiveShell.ast_node_interactivity = \"all\"\n",
    "import numpy as np\n",
    "\n",
    "# Create a matrix\n",
    "A = np.array([[60,-15,12,22,68],\n",
    "                   [-97, 28,91,-49,7],\n",
    "                   [9,57,-91,91,-88],\n",
    "                   [29,-92,42,38,99],\n",
    "                   [-58,91,90,95,-62]])\n",
    "B = np.array([[1,1,0,1,1],\n",
    "                   [1, 0,1,1,0],\n",
    "                   [1,0,0,1,0],\n",
    "                   [1,1,0,0,1],\n",
    "                   [0,0,1,0,0]])"
   ]
  },
  {
   "cell_type": "code",
   "execution_count": 19,
   "id": "3155184e",
   "metadata": {},
   "outputs": [
    {
     "name": "stdout",
     "output_type": "stream",
     "text": [
      "val -97 in row 2 and col 1\n",
      "val -91 in row 3 and col 3\n",
      "val -88 in row 3 and col 5\n",
      "val -92 in row 4 and col 2\n"
     ]
    }
   ],
   "source": [
    "for row in range(len(A)):\n",
    "    for col in range(len(A[row])):\n",
    "        if A[row][col] < -70:\n",
    "            print(\"val\",A[row][col],\"in row\",row+1,\"and col\",col+1)"
   ]
  },
  {
   "cell_type": "code",
   "execution_count": 20,
   "id": "6793b41d",
   "metadata": {},
   "outputs": [
    {
     "data": {
      "text/plain": [
       "array([[ 60, -15,   0,  22,  68],\n",
       "       [-97,   0,  91, -49,   0],\n",
       "       [  9,   0,   0,  91,   0],\n",
       "       [ 29, -92,   0,   0,  99],\n",
       "       [  0,   0,  90,   0,   0]])"
      ]
     },
     "execution_count": 20,
     "metadata": {},
     "output_type": "execute_result"
    }
   ],
   "source": [
    "C = np.multiply(A,B)\n",
    "C"
   ]
  },
  {
   "cell_type": "code",
   "execution_count": 25,
   "id": "bd6745ce",
   "metadata": {},
   "outputs": [
    {
     "data": {
      "text/plain": [
       "0"
      ]
     },
     "execution_count": 25,
     "metadata": {},
     "output_type": "execute_result"
    }
   ],
   "source": [
    "np.inner(C[2,:],C[4,:])"
   ]
  },
  {
   "cell_type": "code",
   "execution_count": null,
   "id": "b7727c87",
   "metadata": {},
   "outputs": [],
   "source": []
  }
 ],
 "metadata": {
  "kernelspec": {
   "display_name": "Python 3 (ipykernel)",
   "language": "python",
   "name": "python3"
  },
  "language_info": {
   "codemirror_mode": {
    "name": "ipython",
    "version": 3
   },
   "file_extension": ".py",
   "mimetype": "text/x-python",
   "name": "python",
   "nbconvert_exporter": "python",
   "pygments_lexer": "ipython3",
   "version": "3.9.13"
  }
 },
 "nbformat": 4,
 "nbformat_minor": 5
}
