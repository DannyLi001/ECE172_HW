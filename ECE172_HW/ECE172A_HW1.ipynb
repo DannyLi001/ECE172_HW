{
 "cells": [
  {
   "cell_type": "code",
   "execution_count": 25,
   "id": "459922ae",
   "metadata": {},
   "outputs": [],
   "source": [
    "'''\n",
    "Jiajun Li, A16635772\n",
    "Academic Integrity Policy: Integrity of scholarship is essential for an academic\n",
    "community. The University expects that both faculty and students will honor this\n",
    "principle and in so doing protect the validity of University intellectual work. For\n",
    "students, this means that all academic work will be done by the individual to\n",
    "whom it is assigned, without unauthorized aid of any kind. By including this in\n",
    "my report, I agree to abide by the Academic Integrity Policy.\n",
    "'''\n",
    "\n",
    "\n",
    "from IPython.core.interactiveshell import InteractiveShell\n",
    "InteractiveShell.ast_node_interactivity = \"all\"\n",
    "import numpy as np\n",
    "#Programming with Matrices\n",
    "# i\n",
    "# Create a matrix\n",
    "A = np.array([[60,-15,12,22,68],\n",
    "                   [-97, 28,91,-49,7],\n",
    "                   [9,57,-91,91,-88],\n",
    "                   [29,-92,42,38,99],\n",
    "                   [-58,91,90,95,-62]])\n",
    "B = np.array([[1,1,0,1,1],\n",
    "                   [1, 0,1,1,0],\n",
    "                   [1,0,0,1,0],\n",
    "                   [1,1,0,0,1],\n",
    "                   [0,0,1,0,0]])"
   ]
  },
  {
   "cell_type": "code",
   "execution_count": 4,
   "id": "3155184e",
   "metadata": {},
   "outputs": [
    {
     "name": "stdout",
     "output_type": "stream",
     "text": [
      "val -97 in row 2 and col 1\n",
      "val -91 in row 3 and col 3\n",
      "val -88 in row 3 and col 5\n",
      "val -92 in row 4 and col 2\n"
     ]
    }
   ],
   "source": [
    "# ii\n",
    "for row in range(len(A)):\n",
    "    for col in range(len(A[row])):\n",
    "        if A[row][col] < -70:\n",
    "            print(\"val\",A[row][col],\"in row\",row+1,\"and col\",col+1)"
   ]
  },
  {
   "cell_type": "code",
   "execution_count": 13,
   "id": "6793b41d",
   "metadata": {},
   "outputs": [
    {
     "data": {
      "text/plain": [
       "array([[ 60, -15,   0,  22,  68],\n",
       "       [-97,   0,  91, -49,   0],\n",
       "       [  9,   0,   0,  91,   0],\n",
       "       [ 29, -92,   0,   0,  99],\n",
       "       [  0,   0,  90,   0,   0]])"
      ]
     },
     "execution_count": 13,
     "metadata": {},
     "output_type": "execute_result"
    }
   ],
   "source": [
    "# iii\n",
    "C = np.multiply(A,B)\n",
    "C"
   ]
  },
  {
   "cell_type": "code",
   "execution_count": 14,
   "id": "bd6745ce",
   "metadata": {},
   "outputs": [
    {
     "data": {
      "text/plain": [
       "0"
      ]
     },
     "execution_count": 14,
     "metadata": {},
     "output_type": "execute_result"
    }
   ],
   "source": [
    "# iv\n",
    "np.inner(C[:,2],C[4,:])"
   ]
  },
  {
   "cell_type": "code",
   "execution_count": 18,
   "id": "b7727c87",
   "metadata": {},
   "outputs": [
    {
     "data": {
      "text/plain": [
       "91"
      ]
     },
     "execution_count": 18,
     "metadata": {},
     "output_type": "execute_result"
    },
    {
     "name": "stdout",
     "output_type": "stream",
     "text": [
      "val 91 in row 3 and col 4\n"
     ]
    }
   ],
   "source": [
    "# v\n",
    "C[:,3].max()\n",
    "arr = C[:,3]\n",
    "row_pos = np.where(arr == 91)[0][0]\n",
    "print(\"val\", C[:,3].max(), \"in row\", row_pos+1, \"and col\", 4)"
   ]
  },
  {
   "cell_type": "code",
   "execution_count": 32,
   "id": "be568a39",
   "metadata": {},
   "outputs": [
    {
     "data": {
      "text/plain": [
       "array([ 60, -15,   0,  22,  68])"
      ]
     },
     "execution_count": 32,
     "metadata": {},
     "output_type": "execute_result"
    },
    {
     "data": {
      "text/plain": [
       "array([[ 3600,   225,     0,   484,  4624],\n",
       "       [-5820,     0,     0, -1078,     0],\n",
       "       [  540,     0,     0,  2002,     0],\n",
       "       [ 1740,  1380,     0,     0,  6732],\n",
       "       [    0,     0,     0,     0,     0]])"
      ]
     },
     "execution_count": 32,
     "metadata": {},
     "output_type": "execute_result"
    }
   ],
   "source": [
    "# vi\n",
    "row_first_C = C[0,:]\n",
    "D = np.multiply(row_first_C,C)\n",
    "D"
   ]
  },
  {
   "cell_type": "code",
   "execution_count": 33,
   "id": "9b8f7e7a",
   "metadata": {},
   "outputs": [
    {
     "data": {
      "text/plain": [
       "array([ 60, -15,   0,  22,  68])"
      ]
     },
     "execution_count": 33,
     "metadata": {},
     "output_type": "execute_result"
    },
    {
     "data": {
      "text/plain": [
       "array([[ 12960000,     50625,         0,    234256,  21381376],\n",
       "       [-20952000,         0,         0,   -521752,         0],\n",
       "       [  1944000,         0,         0,    968968,         0],\n",
       "       [  6264000,    310500,         0,         0,  31128768],\n",
       "       [        0,         0,         0,         0,         0]])"
      ]
     },
     "execution_count": 33,
     "metadata": {},
     "output_type": "execute_result"
    }
   ],
   "source": [
    "# vii\n",
    "row_first_D = D[0,:]\n",
    "E = np.multiply(row_first_D,D)\n",
    "E"
   ]
  },
  {
   "cell_type": "code",
   "execution_count": null,
   "id": "7355c41f",
   "metadata": {},
   "outputs": [],
   "source": [
    "# Robot Traversal\n",
    "# i\n",
    "# - The loc keeps track of the position of the robot.\n",
    "# - The robot should moves one step to south.\n",
    "# - If a object is detected in the south direction, \n",
    "#   the robot will move a step to west, since the loc \n",
    "#   of the robot is added by [0, -1] if object detected.\n",
    "# - The robot would not be considered an intelligent system \n",
    "#   because "
   ]
  },
  {
   "cell_type": "code",
   "execution_count": null,
   "id": "1d60a781",
   "metadata": {},
   "outputs": [],
   "source": []
  }
 ],
 "metadata": {
  "kernelspec": {
   "display_name": "Python 3 (ipykernel)",
   "language": "python",
   "name": "python3"
  },
  "language_info": {
   "codemirror_mode": {
    "name": "ipython",
    "version": 3
   },
   "file_extension": ".py",
   "mimetype": "text/x-python",
   "name": "python",
   "nbconvert_exporter": "python",
   "pygments_lexer": "ipython3",
   "version": "3.9.13"
  }
 },
 "nbformat": 4,
 "nbformat_minor": 5
}
